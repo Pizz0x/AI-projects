{
 "cells": [
  {
   "cell_type": "markdown",
   "id": "f39a8fff",
   "metadata": {},
   "source": [
    "## **2. Multi Layer Perceptron**"
   ]
  },
  {
   "cell_type": "code",
   "execution_count": null,
   "id": "61086c32",
   "metadata": {},
   "outputs": [],
   "source": [
    "import math\n",
    "import random\n",
    "import torch\n",
    "import numpy as np\n",
    "import torch.nn.functional as F\n",
    "import matplotlib.pyplot as plt\n",
    "%matplotlib inline"
   ]
  },
  {
   "cell_type": "code",
   "execution_count": null,
   "id": "ef39dbe6",
   "metadata": {},
   "outputs": [],
   "source": [
    "words = open('./data/names.txt', 'r').read().splitlines()\n",
    "words[:10]"
   ]
  },
  {
   "cell_type": "code",
   "execution_count": null,
   "id": "828d9db4",
   "metadata": {},
   "outputs": [],
   "source": [
    "# Vogliamo ora predire il carattere successivo data una certa sequenza di caratteri\n",
    "# vocabolario di caratteri e mapping a interi\n",
    "chars = sorted(list(set(''.join(words))))\n",
    "stoi = {s:i+1 for i,s in enumerate(chars)}\n",
    "stoi['.'] = 0\n",
    "itos = {i:s for s,i in stoi.items()}"
   ]
  },
  {
   "cell_type": "code",
   "execution_count": null,
   "id": "9c809a0e",
   "metadata": {},
   "outputs": [],
   "source": [
    "# costruiamo il dataset\n",
    "block_size = 3 # numero di caratteri presi in considerazione per predirre il carattere successivo\n",
    "X, Y = [], []\n",
    "for w in words:\n",
    "    print(w)\n",
    "    context = [0] * block_size\n",
    "    for ch in w + '.':\n",
    "        ix = stoi[ch]\n",
    "        X.append(context)\n",
    "        Y.append(ix)\n",
    "        print(''.join(itos[i] for i in context), '-->', itos[ix])\n",
    "        context = context[1:] + [ix] # togli il primo carattere e aggiugi l'ultima y\n",
    "X = torch.tensor(X)\n",
    "Y = torch.tensor(Y)\n",
    "# otteniamo dati in input di dimensione n°esempi x dimensione blocco e vettore di risposta di dimensione n°esempi"
   ]
  },
  {
   "cell_type": "code",
   "execution_count": null,
   "id": "ef7c975e",
   "metadata": {},
   "outputs": [],
   "source": [
    "# Strato iniziale -> prendo l'input X e lo trasformo tramite tabella di look-up\n",
    "C = torch.randn((27, 2)) # tabella di look-up, dove per ogni possibile carattere (in totale sono 27), viene assegnato un valore inizialmente randomico\n",
    "emb = C[X] # otteniamo i valori embedding corrispondenti ai valori nella lista X (per ogni valore di X che è composto da 3 caratteri, ottengo i 3 valori della look-up table corrispondenti, dove ognuno di essi è composto da 2 valori)\n",
    "emb.shape"
   ]
  },
  {
   "cell_type": "code",
   "execution_count": null,
   "id": "eff419e5",
   "metadata": {},
   "outputs": [],
   "source": [
    "# Stato intermedio -> il numero di neuroni è 100\n",
    "W1 = torch.randn((6, 100)) # rappresenta i pesi dello stato intermedio, dato che ogni embedding è formato da 3 coppie, ho 6 input per ogni neurone e quindi 6 pesi. \n",
    "b1 = torch.randn(100)\n",
    "\n",
    "# in questo straot moltiplico ogni embedding per il peso, aggiungo il bias e applico la funzione di attivazione,\n",
    "# quindi calcolo emb @ W1 + b1 e applico una funzione di attivazione come tanh\n",
    "\n",
    "# per moltiplicare gli embedding con i pesi dobbiamo appiattire gli embedding a bi-dimensionali così da ottenere (n x 6) @ (6 X 100) = (n x 100)\n",
    "# torch.cat(torch.unbind(emb, 1), 1)\n",
    "print(emb.view(emb.shape[0],6).shape) # metodo migliore per appiattire dimensionalità, costrutto logico per rappresentare la memoria fisica\n",
    "\n",
    "h = torch.tanh(emb.view(emb.shape[0], 6) @ W1 + b1) # funzione di attivazione su W * X + b\n",
    "print(h)\n",
    "print(h.shape)"
   ]
  },
  {
   "cell_type": "code",
   "execution_count": null,
   "id": "152cf483",
   "metadata": {},
   "outputs": [],
   "source": [
    "# Strato finale\n",
    "W2 = torch.randn((100,27)) # input è il numero di neuroni nello strato intermedio, l'output è la probabilità per ciascun carattere\n",
    "b2 = torch.randn((27))\n",
    "\n",
    "logits = h @ W2 + b2 # input * pesi + bias\n",
    "# Softmax come funzione di attivazione \n",
    "counts = logits.exp()\n",
    "probs = counts / counts.sum(1, keepdim=True)\n",
    "print(probs.shape)"
   ]
  },
  {
   "cell_type": "code",
   "execution_count": null,
   "id": "7f699b4c",
   "metadata": {},
   "outputs": [],
   "source": [
    "# Quello che vogliamo fare ora è vedere ogni la probabilità di ottenere la predizione corretta per ogni riga e tramite la loss function aggiustare questa misura iterativamente\n",
    "probs[torch.arange(X.shape[0]), Y] # probabilità di ottenere la predizione corretta\n",
    "loss = -probs[torch.arange(X.shape[0]), Y].log().mean()\n",
    "# possiamo calcolare la loss in maniera più diretta tramite -> loss = F.cross_entropy(logits, Y)\n",
    "loss"
   ]
  },
  {
   "cell_type": "code",
   "execution_count": null,
   "id": "98a46108",
   "metadata": {},
   "outputs": [],
   "source": [
    "parameters = [C, W1, b1, W2, b2]\n",
    "for p in parameters:\n",
    "    p.requires_grad = True\n",
    "\n",
    "for _ in range(10):\n",
    "    # Forward pass:\n",
    "    emb = C[X]\n",
    "    h = torch.tanh(emb.view(X.shape[0], 6) @ W1 + b1)\n",
    "    logits = h@ W2 + b2\n",
    "    loss = F.cross_entropy(logits, Y)\n",
    "    print(loss.item())\n",
    "    # Backward pass:\n",
    "    for p in parameters:\n",
    "        p.grad = None\n",
    "    loss.backward()\n",
    "    # Update:\n",
    "    for p in parameters:\n",
    "        p.data += -0.1 * p.grad"
   ]
  },
  {
   "cell_type": "code",
   "execution_count": null,
   "id": "205e6538",
   "metadata": {},
   "outputs": [],
   "source": [
    "# Nella realtà vengono eseguiti i passi di forward e backward non su tutto il dataset ogni volta ma su un campione randomico di esso chiamato minibatch, in questo modo il processo è più rapido\n",
    "\n",
    "for _ in range(10000):\n",
    "    ix = torch.randint(0, X.shape[0], (32,)) # selezione randomicamente 32 righe rispetto a quelle possibili\n",
    "    # Forward pass:\n",
    "    emb = C[X[ix]] # (32, 3, 2)\n",
    "    h = torch.tanh(emb.view(emb.shape[0], 6) @ W1 + b1) # (32, 100)\n",
    "    logits = h @ W2 + b2 # (32, 27)\n",
    "    loss = F.cross_entropy(logits, Y[ix])\n",
    "    # Backward pass:\n",
    "    for p in parameters:\n",
    "        p.grad = None\n",
    "    loss.backward()\n",
    "    # Update:\n",
    "    for p in parameters:\n",
    "        p.data += -0.1 * p.grad\n",
    "print(loss.item())\n",
    "\n",
    "# dato che stiamo eseguendo dei minibatches, la qualità del gradiente è minore, quindi la direzione non è affidabile come nel caso del dataset completo\n",
    "# ma è molto meglio avere un gradiente approssimativo e fare molti più step rispetto a valutare il gradiente esatto e farne pochi."
   ]
  },
  {
   "cell_type": "code",
   "execution_count": null,
   "id": "b70ad953",
   "metadata": {},
   "outputs": [],
   "source": [
    "# possiamo ora valutare la loss function sul dataset completo e vedere come è andata:\n",
    "emb = C[X] # (32, 3, 2)\n",
    "h = torch.tanh(emb.view(emb.shape[0], 6) @ W1 + b1) # (32, 100)\n",
    "logits = h @ W2 + b2 # (32, 27)\n",
    "loss = F.cross_entropy(logits, Y)\n",
    "loss"
   ]
  },
  {
   "cell_type": "code",
   "execution_count": null,
   "id": "7cdc67d5",
   "metadata": {},
   "outputs": [],
   "source": [
    "# Vediamo che otteniamo una loss sempre minore, questo ci porterebbe a dire che abbiamo allenato il modello correttamente ed esso è ora in grado di fare previsioni più precise\n",
    "# Questo però non è sempre vero, infatti potrebbe essere che il modello stia overfittando sui dati -> No Buono !\n",
    "# Questo accade solitamente quanto si ha un numero di parametri elevato, i quali sono capaci di imparare tutte le casistiche presenti nel dataset. In questo modo il modello non sta imparando i pattern ma semplicemente imparando a memoria le combinazioni del dataset ottenendo semplicemente gli stessi valori senza creare nulla di nuovo\n",
    "\n",
    "# Per evitare problemi di overfit, lo standard è dividere il dataset in 3 partizioni: training set, validation set e test set \n",
    "# - training -> utilizzato per otimizzare i parametri del modello\n",
    "# - validation -> tuning degli hyper-parametri del modello: nel nostro caso potrebbero essere la dimensione dello strato intermedio o la dimensione dell'embedding table\n",
    "# - test -> valuta le performance del modello alla fine\n",
    "\n",
    "def build_dataset(words, n):\n",
    "    block_size = n\n",
    "    X, Y = [], []\n",
    "    for w in words:\n",
    "        #print(w)\n",
    "        context = [0] * block_size\n",
    "        for ch in w + '.':\n",
    "            ix = stoi[ch]\n",
    "            X.append(context)\n",
    "            Y.append(ix)\n",
    "            #print(''.join(itos[i] for i in context), '-->', itos[ix])\n",
    "            context = context[1:] + [ix]\n",
    "    X = torch.tensor(X)\n",
    "    Y = torch.tensor(Y)\n",
    "    return X, Y\n",
    "\n",
    "import random\n",
    "random.seed(42)\n",
    "random.shuffle(words)\n",
    "n1 = int(0.8*len(words))\n",
    "n2 = int(0.9*len(words))\n",
    "\n",
    "X_train, y_train = build_dataset(words[:n1],3)\n",
    "X_valid, y_valid = build_dataset(words[n1:n2],3)\n",
    "X_test, y_test = build_dataset(words[n2:],3)"
   ]
  },
  {
   "cell_type": "code",
   "execution_count": null,
   "id": "85e66ee9",
   "metadata": {},
   "outputs": [],
   "source": [
    "C = torch.randn((27, 2))\n",
    "W1 = torch.randn((6, 100))\n",
    "b1 = torch.randn(100)\n",
    "W2 = torch.randn((100,27))\n",
    "b2 = torch.randn((27))\n",
    "parameters = [C, W1, b1, W2, b2]\n",
    "for p in parameters:\n",
    "    p.requires_grad = True"
   ]
  },
  {
   "cell_type": "code",
   "execution_count": null,
   "id": "dc1f3955",
   "metadata": {},
   "outputs": [],
   "source": [
    "# Training:\n",
    "for _ in range(20000):\n",
    "    ix = torch.randint(0, X_train.shape[0], (32,)) # selezione randomicamente 32 righe rispetto a quelle possibili\n",
    "    # Forward pass:\n",
    "    emb = C[X_train[ix]] # (32, 3, 2)\n",
    "    h = torch.tanh(emb.view(emb.shape[0], 30) @ W1 + b1) # (32, 100)\n",
    "    logits = h @ W2 + b2 # (32, 27)\n",
    "    loss = F.cross_entropy(logits, y_train[ix])\n",
    "    # Backward pass:\n",
    "    for p in parameters:\n",
    "        p.grad = None\n",
    "    loss.backward()\n",
    "    # Update:\n",
    "    for p in parameters:\n",
    "        p.data += -0.01 * p.grad\n",
    "print(loss.item())"
   ]
  },
  {
   "cell_type": "code",
   "execution_count": null,
   "id": "d39eaa4a",
   "metadata": {},
   "outputs": [],
   "source": [
    "emb = C[X_valid]\n",
    "h = torch.tanh(emb.view(emb.shape[0], 30) @ W1 + b1)\n",
    "logits = h @ W2 + b2\n",
    "loss = F.cross_entropy(logits, y_valid)\n",
    "loss\n",
    "# Possiamo vedere che per ora stiamo underfittando, in quanto la loss del training e del validation set sono molto simili e quindi il modello non è abbastanza potente per semplicemente memorizzare i dati\n",
    "# Possiamo quindi aspettarci dei miglioramenti se aumentiamo la dimensione della rete"
   ]
  },
  {
   "cell_type": "code",
   "execution_count": null,
   "id": "f2a156c3",
   "metadata": {},
   "outputs": [],
   "source": [
    "# aumento il numero di neuroni nell'hidden layer e la dimensione della tabella di look-up\n",
    "C = torch.randn((27, 10))\n",
    "W1 = torch.randn((30, 200))\n",
    "b1 = torch.randn(200)\n",
    "W2 = torch.randn((200,27))\n",
    "b2 = torch.randn((27))\n",
    "parameters = [C, W1, b1, W2, b2]\n",
    "for p in parameters:\n",
    "    p.requires_grad = True\n",
    "# e rieseguiamo il codice nei 2 blocchi superiori\n",
    "# quello che stiamo facendo sono degli esperimenti nel vedere come possiamo aggiustare i parametri in modo da ottenere performance migliori (non è una scienza esatta)"
   ]
  },
  {
   "cell_type": "code",
   "execution_count": null,
   "id": "adf73b1e",
   "metadata": {},
   "outputs": [],
   "source": [
    "# Proviamo ora a generare nomi dal modello:\n",
    "for i in range(10):\n",
    "    out = []\n",
    "    context = [0] * 3\n",
    "    while True:\n",
    "        emb = C[torch.tensor([context])]\n",
    "        h = torch.tanh(emb.view(emb.shape[0], 30) @ W1 + b1)\n",
    "        logits = h @ W2 + b2\n",
    "        probs = F.softmax(logits, dim=1)\n",
    "        ix = torch.multinomial(probs, num_samples=1, replacement=True).item() # campionamente per ottenere successore\n",
    "        out.append(ix)\n",
    "        context = context[1:] + [ix]\n",
    "        if (ix==0): # se è 0 vuol dire che la parole è terminata\n",
    "            break\n",
    "\n",
    "    print(''.join(itos[i] for i in out))"
   ]
  }
 ],
 "metadata": {
  "kernelspec": {
   "display_name": "Python 3",
   "language": "python",
   "name": "python3"
  },
  "language_info": {
   "name": "python",
   "version": "3.8.10"
  }
 },
 "nbformat": 4,
 "nbformat_minor": 5
}
